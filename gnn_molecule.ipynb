{
 "cells": [
  {
   "cell_type": "code",
   "execution_count": 4,
   "metadata": {},
   "outputs": [],
   "source": [
    "import torch\n",
    "import rdkit \n",
    "from torch_geometric.datasets import MoleculeNet\n"
   ]
  },
  {
   "cell_type": "markdown",
   "metadata": {},
   "source": [
    "### ESOL Dataset"
   ]
  },
  {
   "cell_type": "code",
   "execution_count": 5,
   "metadata": {},
   "outputs": [
    {
     "name": "stderr",
     "output_type": "stream",
     "text": [
      "Downloading https://deepchemdata.s3-us-west-1.amazonaws.com/datasets/delaney-processed.csv\n",
      "Processing...\n",
      "Done!\n"
     ]
    },
    {
     "data": {
      "text/plain": [
       "ESOL(1128)"
      ]
     },
     "execution_count": 5,
     "metadata": {},
     "output_type": "execute_result"
    }
   ],
   "source": [
    "# load ESOL dataset: https://pytorch-geometric.readthedocs.io/en/latest/generated/torch_geometric.datasets.MoleculeNet.html\n",
    "data = MoleculeNet(root='.',name='ESOL')\n",
    "data"
   ]
  },
  {
   "cell_type": "code",
   "execution_count": 12,
   "metadata": {},
   "outputs": [
    {
     "name": "stdout",
     "output_type": "stream",
     "text": [
      "Data(x=[32, 9], edge_index=[2, 68], edge_attr=[68, 3], smiles='OCC3OC(OCC2OC(OC(C#N)c1ccccc1)C(O)C(O)C2O)C(O)C(O)C3O ', y=[1, 1])\n",
      "Data(x=[15, 9], edge_index=[2, 32], edge_attr=[32, 3], smiles='Cc1occc1C(=O)Nc2ccccc2', y=[1, 1])\n",
      "Data(x=[11, 9], edge_index=[2, 20], edge_attr=[20, 3], smiles='CC(C)=CCCC(C)=CC(=O)', y=[1, 1])\n",
      "Data(x=[22, 9], edge_index=[2, 52], edge_attr=[52, 3], smiles='c1ccc2c(c1)ccc3c2ccc4c5ccccc5ccc43', y=[1, 1])\n",
      "Data(x=[5, 9], edge_index=[2, 10], edge_attr=[10, 3], smiles='c1ccsc1', y=[1, 1])\n"
     ]
    }
   ],
   "source": [
    "# print first 5 examples\n",
    "for i in range(5):\n",
    "    print(data[i])"
   ]
  },
  {
   "cell_type": "code",
   "execution_count": 25,
   "metadata": {},
   "outputs": [
    {
     "data": {
      "text/plain": [
       "tensor([[8, 0, 2, 5, 1, 0, 4, 0, 0],\n",
       "        [6, 0, 4, 5, 2, 0, 4, 0, 0],\n",
       "        [6, 0, 4, 5, 1, 0, 4, 0, 1],\n",
       "        [8, 0, 2, 5, 0, 0, 4, 0, 1],\n",
       "        [6, 0, 4, 5, 1, 0, 4, 0, 1],\n",
       "        [8, 0, 2, 5, 0, 0, 4, 0, 0],\n",
       "        [6, 0, 4, 5, 2, 0, 4, 0, 0],\n",
       "        [6, 0, 4, 5, 1, 0, 4, 0, 1],\n",
       "        [8, 0, 2, 5, 0, 0, 4, 0, 1],\n",
       "        [6, 0, 4, 5, 1, 0, 4, 0, 1],\n",
       "        [8, 0, 2, 5, 0, 0, 4, 0, 0],\n",
       "        [6, 0, 4, 5, 1, 0, 4, 0, 0],\n",
       "        [6, 0, 2, 5, 0, 0, 2, 0, 0],\n",
       "        [7, 0, 1, 5, 0, 0, 2, 0, 0],\n",
       "        [6, 0, 3, 5, 0, 0, 3, 1, 1],\n",
       "        [6, 0, 3, 5, 1, 0, 3, 1, 1],\n",
       "        [6, 0, 3, 5, 1, 0, 3, 1, 1],\n",
       "        [6, 0, 3, 5, 1, 0, 3, 1, 1],\n",
       "        [6, 0, 3, 5, 1, 0, 3, 1, 1],\n",
       "        [6, 0, 3, 5, 1, 0, 3, 1, 1],\n",
       "        [6, 0, 4, 5, 1, 0, 4, 0, 1],\n",
       "        [8, 0, 2, 5, 1, 0, 4, 0, 0],\n",
       "        [6, 0, 4, 5, 1, 0, 4, 0, 1],\n",
       "        [8, 0, 2, 5, 1, 0, 4, 0, 0],\n",
       "        [6, 0, 4, 5, 1, 0, 4, 0, 1],\n",
       "        [8, 0, 2, 5, 1, 0, 4, 0, 0],\n",
       "        [6, 0, 4, 5, 1, 0, 4, 0, 1],\n",
       "        [8, 0, 2, 5, 1, 0, 4, 0, 0],\n",
       "        [6, 0, 4, 5, 1, 0, 4, 0, 1],\n",
       "        [8, 0, 2, 5, 1, 0, 4, 0, 0],\n",
       "        [6, 0, 4, 5, 1, 0, 4, 0, 1],\n",
       "        [8, 0, 2, 5, 1, 0, 4, 0, 0]])"
      ]
     },
     "execution_count": 25,
     "metadata": {},
     "output_type": "execute_result"
    }
   ],
   "source": [
    "# nodes of the first graph: [num_nodes,node_features]\n",
    "data[0].x"
   ]
  },
  {
   "cell_type": "code",
   "execution_count": 27,
   "metadata": {},
   "outputs": [
    {
     "data": {
      "text/plain": [
       "tensor([[ 0,  1],\n",
       "        [ 1,  0],\n",
       "        [ 1,  2],\n",
       "        [ 2,  1],\n",
       "        [ 2,  3],\n",
       "        [ 2, 30],\n",
       "        [ 3,  2],\n",
       "        [ 3,  4],\n",
       "        [ 4,  3],\n",
       "        [ 4,  5],\n",
       "        [ 4, 26],\n",
       "        [ 5,  4],\n",
       "        [ 5,  6],\n",
       "        [ 6,  5],\n",
       "        [ 6,  7],\n",
       "        [ 7,  6],\n",
       "        [ 7,  8],\n",
       "        [ 7, 24],\n",
       "        [ 8,  7],\n",
       "        [ 8,  9],\n",
       "        [ 9,  8],\n",
       "        [ 9, 10],\n",
       "        [ 9, 20],\n",
       "        [10,  9],\n",
       "        [10, 11],\n",
       "        [11, 10],\n",
       "        [11, 12],\n",
       "        [11, 14],\n",
       "        [12, 11],\n",
       "        [12, 13],\n",
       "        [13, 12],\n",
       "        [14, 11],\n",
       "        [14, 15],\n",
       "        [14, 19],\n",
       "        [15, 14],\n",
       "        [15, 16],\n",
       "        [16, 15],\n",
       "        [16, 17],\n",
       "        [17, 16],\n",
       "        [17, 18],\n",
       "        [18, 17],\n",
       "        [18, 19],\n",
       "        [19, 14],\n",
       "        [19, 18],\n",
       "        [20,  9],\n",
       "        [20, 21],\n",
       "        [20, 22],\n",
       "        [21, 20],\n",
       "        [22, 20],\n",
       "        [22, 23],\n",
       "        [22, 24],\n",
       "        [23, 22],\n",
       "        [24,  7],\n",
       "        [24, 22],\n",
       "        [24, 25],\n",
       "        [25, 24],\n",
       "        [26,  4],\n",
       "        [26, 27],\n",
       "        [26, 28],\n",
       "        [27, 26],\n",
       "        [28, 26],\n",
       "        [28, 29],\n",
       "        [28, 30],\n",
       "        [29, 28],\n",
       "        [30,  2],\n",
       "        [30, 28],\n",
       "        [30, 31],\n",
       "        [31, 30]])"
      ]
     },
     "execution_count": 27,
     "metadata": {},
     "output_type": "execute_result"
    }
   ],
   "source": [
    "# edges of the first graph (this is shwoing only the connected nodes), shape: [2, num_nodes]\n",
    "data[0].edge_index.T "
   ]
  },
  {
   "cell_type": "code",
   "execution_count": 30,
   "metadata": {},
   "outputs": [
    {
     "data": {
      "text/plain": [
       "tensor([[-0.7700]])"
      ]
     },
     "execution_count": 30,
     "metadata": {},
     "output_type": "execute_result"
    }
   ],
   "source": [
    "# target value \n",
    "data[0].y"
   ]
  },
  {
   "cell_type": "markdown",
   "metadata": {},
   "source": [
    "### Convert SMILES to RDKit molecules "
   ]
  },
  {
   "cell_type": "code",
   "execution_count": 34,
   "metadata": {},
   "outputs": [
    {
     "data": {
      "text/plain": [
       "'OCC3OC(OCC2OC(OC(C#N)c1ccccc1)C(O)C(O)C2O)C(O)C(O)C3O '"
      ]
     },
     "execution_count": 34,
     "metadata": {},
     "output_type": "execute_result"
    }
   ],
   "source": [
    "# get the smiles reperesentation of the first molecule (or the first graph)\n",
    "data[0]['smiles']"
   ]
  },
  {
   "cell_type": "code",
   "execution_count": 37,
   "metadata": {},
   "outputs": [
    {
     "data": {
      "image/png": "[encoded data removed]",
      "text/plain": [
       "<rdkit.Chem.rdchem.Mol at 0x7f073fa02580>"
      ]
     },
     "execution_count": 37,
     "metadata": {},
     "output_type": "execute_result"
    }
   ],
   "source": [
    "from rdkit import Chem\n",
    "from rdkit.Chem.Draw import IPythonConsole\n",
    "mol = Chem.MolFromSmiles(data[0]['smiles'])\n",
    "mol"
   ]
  },
  {
   "cell_type": "code",
   "execution_count": 46,
   "metadata": {},
   "outputs": [
    {
     "name": "stdout",
     "output_type": "stream",
     "text": [
      "Number of bonds: 34\n",
      "Number of atoms: 32\n"
     ]
    }
   ],
   "source": [
    "# we can get molecule details from RDKit (in ESOL dataset they are provided in the datset)\n",
    "print(f'Number of bonds: {mol.GetNumBonds()}')\n",
    "print(f'Number of atoms: {mol.GetNumAtoms()}')"
   ]
  },
  {
   "cell_type": "markdown",
   "metadata": {},
   "source": [
    "### Implementing Graph Neural Network (GNN)\n",
    "\n",
    "* Building GNN works same way as building CNN (with some additional functionality)\n",
    "\n",
    "* In this example we apply 3 convolutional layers (i.e. we want to learn the information about 3 neighbor hops). "
   ]
  },
  {
   "cell_type": "code",
   "execution_count": 54,
   "metadata": {},
   "outputs": [],
   "source": [
    "import torch \n",
    "from torch.nn import Linear \n",
    "import torch.nn.functional as F \n",
    "from torch_geometric.nn import GCNConv, global_max_pool, global_mean_pool\n",
    "embedding_size = 64"
   ]
  },
  {
   "cell_type": "code",
   "execution_count": 67,
   "metadata": {},
   "outputs": [
    {
     "name": "stdout",
     "output_type": "stream",
     "text": [
      "GCN(\n",
      "  (init_cov): GCNConv(9, 64)\n",
      "  (conv1): GCNConv(64, 64)\n",
      "  (conv2): GCNConv(64, 64)\n",
      "  (conv3): GCNConv(64, 64)\n",
      "  (out): Linear(in_features=128, out_features=1, bias=True)\n",
      ")\n",
      "Total model parameters: 13249\n"
     ]
    }
   ],
   "source": [
    "torch.manual_seed(42)\n",
    "\n",
    "class GCN(torch.nn.Module):\n",
    "    def __init__(self):\n",
    "        super().__init__()\n",
    "\n",
    "        # GCN layers \n",
    "        self.init_cov = GCNConv(data.num_features,embedding_size)               # (9,64)\n",
    "        self.conv1 = GCNConv(embedding_size,embedding_size)                     # (64,64)\n",
    "        self.conv2 = GCNConv(embedding_size,embedding_size)                     # (64,64)\n",
    "        self.conv3 = GCNConv(embedding_size,embedding_size)                     # (64,64)\n",
    "        \n",
    "        # output linear layer \n",
    "        self.out = Linear(embedding_size*2,1)                                   # (128,1)\n",
    "        \n",
    "    def forward(self,x,edge_index,batch_index):\n",
    "        # frst conv layer \n",
    "        hidden = self.init_cov(x,edge_index)                                    # (Nodes,9) @ (9,64)   -> (Nodes,64)\n",
    "        hidden = F.tanh(hidden)\n",
    "        # other conv layers \n",
    "        hidden = self.conv1(hidden,edge_index)                                  # (Nodes,64) @ (64,64) -> (Nodes,64)\n",
    "        hidden = F.tanh(hidden)\n",
    "        hidden = self.conv2(hidden,edge_index)                                  # (nodes,64) @ (64,64) -> (Nodes,64)\n",
    "        hidden = F.tanh(hidden)\n",
    "        hidden = self.conv3(hidden,edge_index)                                  # (Nodes,64) @ (64,64) -> (Nodes,64)\n",
    "        hidden = F.tanh(hidden)\n",
    "        # global pooling (stack different aggregations):                        # concat[(1,64), (1,64)] -> (2,64)\n",
    "        hidden = torch.cat([global_mean_pool(hidden,batch_index),\n",
    "                            global_max_pool(hidden,batch_index)], dim = 1) \n",
    "        \n",
    "        # final linear layer\n",
    "        out = self.out(hidden)                                                  # 1\n",
    "        return out, hidden \n",
    "\n",
    "model = GCN()\n",
    "print(model)\n",
    "print(\"Total model parameters:\", sum(p.numel() for p in model.parameters()))"
   ]
  },
  {
   "cell_type": "markdown",
   "metadata": {},
   "source": [
    "### Model Training "
   ]
  },
  {
   "cell_type": "code",
   "execution_count": 68,
   "metadata": {},
   "outputs": [],
   "source": [
    "from torch_geometric.data import DataLoader\n",
    "import warnings\n",
    "warnings.filterwarnings('ignore')\n",
    "\n",
    "# loss function and optimizer \n",
    "loss_fn = torch.nn.MSELoss() # RMSE loss \n",
    "optimizer = torch.optim.Adam(model.parameters(),lr=0.0001)\n",
    "\n",
    "# use GPU if available \n",
    "device = 'cuda' if torch.cuda.is_available() else 'cpu'\n",
    "model = model.to(device)\n",
    "\n",
    "# create train and validation data loaders \n",
    "data_size = len(data)\n",
    "NUM_GRAPHS_PER_BATCH = 64\n",
    "n1 = int(0.8*data_size)\n",
    "train_data_loader = DataLoader(data[:n1], batch_size=NUM_GRAPHS_PER_BATCH,shuffle=True)\n",
    "val_data_loader = DataLoader(data[n1:],batch_size=NUM_GRAPHS_PER_BATCH,shuffle=True)"
   ]
  },
  {
   "cell_type": "code",
   "execution_count": 69,
   "metadata": {},
   "outputs": [],
   "source": [
    "# training function \n",
    "def training():\n",
    "    for batch in train_data_loader:\n",
    "        batch.to(device)                                                   # send data to GPU \n",
    "        optimizer.zero_grad()                                              # clear the grad (before next iter)\n",
    "        pred,embd = model(batch.x.float(),batch.edge_index,batch.batch)    # get the prediction \n",
    "        loss = loss_fn(pred,batch.y)                                       # get the loss \n",
    "        loss.backward()                                                    # find the gradient of loss wrt weights\n",
    "        optimizer.step()                                                   # update the weights \n",
    "    return loss, embd"
   ]
  },
  {
   "cell_type": "code",
   "execution_count": 70,
   "metadata": {},
   "outputs": [
    {
     "name": "stdout",
     "output_type": "stream",
     "text": [
      "Epoch:0 | Train Loss:24.3438\n",
      "Epoch:100 | Train Loss:1.8671\n",
      "Epoch:200 | Train Loss:2.3988\n",
      "Epoch:300 | Train Loss:0.2216\n",
      "Epoch:400 | Train Loss:1.1443\n",
      "Epoch:500 | Train Loss:0.7295\n",
      "Epoch:600 | Train Loss:0.0844\n",
      "Epoch:700 | Train Loss:1.3995\n",
      "Epoch:800 | Train Loss:0.6093\n",
      "Epoch:900 | Train Loss:0.8532\n"
     ]
    }
   ],
   "source": [
    "# do training for 1000 epochs \n",
    "losses = []\n",
    "for epoch in range(1000):\n",
    "    loss, h = training()\n",
    "    losses.append(loss)\n",
    "    if epoch % 100 == 0:\n",
    "        print(f'Epoch:{epoch} | Train Loss:{loss:.4f}')"
   ]
  },
  {
   "cell_type": "code",
   "execution_count": 78,
   "metadata": {},
   "outputs": [
    {
     "data": {
      "text/plain": [
       "[<matplotlib.lines.Line2D at 0x7f07344dedc0>]"
      ]
     },
     "execution_count": 78,
     "metadata": {},
     "output_type": "execute_result"
    },
    {
     "data": {
      "image/png": "[encoded data removed]",
      "text/plain": [
       "<Figure size 640x480 with 1 Axes>"
      ]
     },
     "metadata": {},
     "output_type": "display_data"
    }
   ],
   "source": [
    "# plot the train loss \n",
    "import matplotlib.pyplot as plt \n",
    "import numpy as np\n",
    "\n",
    "losses_float = [float(loss.cpu().detach().numpy()) for loss in losses]\n",
    "plt.plot(np.arange(len(losses)), losses_float)"
   ]
  },
  {
   "cell_type": "code",
   "execution_count": 86,
   "metadata": {},
   "outputs": [],
   "source": [
    "# let's make predictions (on one batch from the validation data set)\n",
    "val_results = [[],[]]\n",
    "test_batch = next(iter(val_data_loader))\n",
    "with torch.no_grad():\n",
    "    test_batch.to(device)\n",
    "    pred,embd = model(test_batch.x.float(),test_batch.edge_index,test_batch.batch)\n",
    "    val_results[0].append(test_batch.y.tolist())\n",
    "    val_results[1].append(pred.tolist())"
   ]
  },
  {
   "cell_type": "code",
   "execution_count": 102,
   "metadata": {},
   "outputs": [
    {
     "data": {
      "text/plain": [
       "array([[-1.88999999, -1.20705032],\n",
       "       [-1.13999999, -1.80016482],\n",
       "       [-0.73000002, -0.66406602],\n",
       "       [-3.1500001 , -3.88548779],\n",
       "       [-3.58999991, -2.55828238],\n",
       "       [-2.3499999 , -3.07653093],\n",
       "       [-1.60000002, -0.88112229],\n",
       "       [-3.3599999 , -3.64953899],\n",
       "       [-5.23000002, -3.50362659],\n",
       "       [-3.78999996, -4.11185646]])"
      ]
     },
     "execution_count": 102,
     "metadata": {},
     "output_type": "execute_result"
    }
   ],
   "source": [
    "# actual and predicted values (first 10) \n",
    "val_np = np.array(val_results).reshape(2,64)\n",
    "val_np.T[:10]"
   ]
  },
  {
   "cell_type": "code",
   "execution_count": 104,
   "metadata": {},
   "outputs": [
    {
     "data": {
      "text/plain": [
       "Text(0.5, 0, 'Actual')"
      ]
     },
     "execution_count": 104,
     "metadata": {},
     "output_type": "execute_result"
    },
    {
     "data": {
      "image/png": "[encoded data removed]",
      "text/plain": [
       "<Figure size 640x480 with 1 Axes>"
      ]
     },
     "metadata": {},
     "output_type": "display_data"
    }
   ],
   "source": [
    "# plot model prediction against actual values\n",
    "plt.scatter(val_np[0],val_np[1])\n",
    "plt.ylabel('pred')\n",
    "plt.xlabel('Actual')"
   ]
  },
  {
   "cell_type": "code",
   "execution_count": null,
   "metadata": {},
   "outputs": [],
   "source": []
  }
 ],
 "metadata": {
  "kernelspec": {
   "display_name": "base",
   "language": "python",
   "name": "python3"
  },
  "language_info": {
   "codemirror_mode": {
    "name": "ipython",
    "version": 3
   },
   "file_extension": ".py",
   "mimetype": "text/x-python",
   "name": "python",
   "nbconvert_exporter": "python",
   "pygments_lexer": "ipython3",
   "version": "3.9.13"
  }
 },
 "nbformat": 4,
 "nbformat_minor": 2
}
