{
 "cells": [
  {
   "cell_type": "code",
   "execution_count": 1,
   "metadata": {},
   "outputs": [],
   "source": [
    "import torch\n",
    "import rdkit \n",
    "from torch_geometric.datasets import MoleculeNet\n"
   ]
  },
  {
   "cell_type": "markdown",
   "metadata": {},
   "source": [
    "### ESOL Dataset"
   ]
  },
  {
   "cell_type": "code",
   "execution_count": 2,
   "metadata": {},
   "outputs": [
    {
     "data": {
      "text/plain": [
       "ESOL(1128)"
      ]
     },
     "execution_count": 2,
     "metadata": {},
     "output_type": "execute_result"
    }
   ],
   "source": [
    "# load ESOL dataset: https://pytorch-geometric.readthedocs.io/en/latest/generated/torch_geometric.datasets.MoleculeNet.html\n",
    "data = MoleculeNet(root='.',name='ESOL')\n",
    "data"
   ]
  },
  {
   "cell_type": "code",
   "execution_count": 3,
   "metadata": {},
   "outputs": [
    {
     "name": "stdout",
     "output_type": "stream",
     "text": [
      "Data(x=[32, 9], edge_index=[2, 68], edge_attr=[68, 3], smiles='OCC3OC(OCC2OC(OC(C#N)c1ccccc1)C(O)C(O)C2O)C(O)C(O)C3O ', y=[1, 1])\n",
      "Data(x=[15, 9], edge_index=[2, 32], edge_attr=[32, 3], smiles='Cc1occc1C(=O)Nc2ccccc2', y=[1, 1])\n",
      "Data(x=[11, 9], edge_index=[2, 20], edge_attr=[20, 3], smiles='CC(C)=CCCC(C)=CC(=O)', y=[1, 1])\n",
      "Data(x=[22, 9], edge_index=[2, 52], edge_attr=[52, 3], smiles='c1ccc2c(c1)ccc3c2ccc4c5ccccc5ccc43', y=[1, 1])\n",
      "Data(x=[5, 9], edge_index=[2, 10], edge_attr=[10, 3], smiles='c1ccsc1', y=[1, 1])\n"
     ]
    }
   ],
   "source": [
    "# print first 5 examples\n",
    "for i in range(5):\n",
    "    print(data[i])"
   ]
  },
  {
   "cell_type": "code",
   "execution_count": 4,
   "metadata": {},
   "outputs": [
    {
     "data": {
      "text/plain": [
       "tensor([[8, 0, 2, 5, 1, 0, 4, 0, 0],\n",
       "        [6, 0, 4, 5, 2, 0, 4, 0, 0],\n",
       "        [6, 0, 4, 5, 1, 0, 4, 0, 1],\n",
       "        [8, 0, 2, 5, 0, 0, 4, 0, 1],\n",
       "        [6, 0, 4, 5, 1, 0, 4, 0, 1],\n",
       "        [8, 0, 2, 5, 0, 0, 4, 0, 0],\n",
       "        [6, 0, 4, 5, 2, 0, 4, 0, 0],\n",
       "        [6, 0, 4, 5, 1, 0, 4, 0, 1],\n",
       "        [8, 0, 2, 5, 0, 0, 4, 0, 1],\n",
       "        [6, 0, 4, 5, 1, 0, 4, 0, 1]])"
      ]
     },
     "execution_count": 4,
     "metadata": {},
     "output_type": "execute_result"
    }
   ],
   "source": [
    "# nodes of the first graph: [num_nodes,node_features]\n",
    "data[0].x[:10]"
   ]
  },
  {
   "cell_type": "code",
   "execution_count": 5,
   "metadata": {},
   "outputs": [
    {
     "data": {
      "text/plain": [
       "tensor([[ 0,  1],\n",
       "        [ 1,  0],\n",
       "        [ 1,  2],\n",
       "        [ 2,  1],\n",
       "        [ 2,  3],\n",
       "        [ 2, 30],\n",
       "        [ 3,  2],\n",
       "        [ 3,  4],\n",
       "        [ 4,  3],\n",
       "        [ 4,  5]])"
      ]
     },
     "execution_count": 5,
     "metadata": {},
     "output_type": "execute_result"
    }
   ],
   "source": [
    "# edges of the first graph (this is shwoing only the connected nodes), shape: [2, num_nodes]\n",
    "data[0].edge_index.T[:10]"
   ]
  },
  {
   "cell_type": "code",
   "execution_count": 6,
   "metadata": {},
   "outputs": [
    {
     "data": {
      "text/plain": [
       "tensor([[-0.7700]])"
      ]
     },
     "execution_count": 6,
     "metadata": {},
     "output_type": "execute_result"
    }
   ],
   "source": [
    "# target value \n",
    "data[0].y"
   ]
  },
  {
   "cell_type": "markdown",
   "metadata": {},
   "source": [
    "### Convert SMILES to RDKit molecules "
   ]
  },
  {
   "cell_type": "code",
   "execution_count": 7,
   "metadata": {},
   "outputs": [
    {
     "data": {
      "text/plain": [
       "'OCC3OC(OCC2OC(OC(C#N)c1ccccc1)C(O)C(O)C2O)C(O)C(O)C3O '"
      ]
     },
     "execution_count": 7,
     "metadata": {},
     "output_type": "execute_result"
    }
   ],
   "source": [
    "# get the smiles reperesentation of the first molecule (or the first graph)\n",
    "data[0]['smiles']"
   ]
  },
  {
   "cell_type": "code",
   "execution_count": 8,
   "metadata": {},
   "outputs": [
    {
     "data": {
      "image/png": "[encoded data removed]",
      "text/plain": [
       "<rdkit.Chem.rdchem.Mol at 0x7fcea144f660>"
      ]
     },
     "execution_count": 8,
     "metadata": {},
     "output_type": "execute_result"
    }
   ],
   "source": [
    "from rdkit import Chem\n",
    "from rdkit.Chem.Draw import IPythonConsole\n",
    "mol = Chem.MolFromSmiles(data[0]['smiles'])\n",
    "mol"
   ]
  },
  {
   "cell_type": "code",
   "execution_count": 9,
   "metadata": {},
   "outputs": [
    {
     "name": "stdout",
     "output_type": "stream",
     "text": [
      "Number of bonds: 34\n",
      "Number of atoms: 32\n"
     ]
    }
   ],
   "source": [
    "# we can get molecule details from RDKit (in ESOL dataset they are provided in the datset)\n",
    "print(f'Number of bonds: {mol.GetNumBonds()}')\n",
    "print(f'Number of atoms: {mol.GetNumAtoms()}')"
   ]
  },
  {
   "cell_type": "markdown",
   "metadata": {},
   "source": [
    "### Implementing Graph Neural Network (GNN)\n",
    "\n",
    "* Building GNN works same way as building CNN (with some additional functionality)\n",
    "\n",
    "* In this example we apply 3 convolutional layers (i.e. we want to learn the information about 3 neighbor hops). "
   ]
  },
  {
   "cell_type": "code",
   "execution_count": 10,
   "metadata": {},
   "outputs": [],
   "source": [
    "import torch \n",
    "from torch.nn import Linear \n",
    "import torch.nn.functional as F \n",
    "from torch_geometric.nn import GCNConv, global_max_pool, global_mean_pool\n",
    "embedding_size = 64"
   ]
  },
  {
   "cell_type": "code",
   "execution_count": 11,
   "metadata": {},
   "outputs": [
    {
     "name": "stdout",
     "output_type": "stream",
     "text": [
      "GCN(\n",
      "  (init_cov): GCNConv(9, 64)\n",
      "  (conv1): GCNConv(64, 64)\n",
      "  (conv2): GCNConv(64, 64)\n",
      "  (conv3): GCNConv(64, 64)\n",
      "  (out): Linear(in_features=128, out_features=1, bias=True)\n",
      ")\n",
      "Total model parameters: 13249\n"
     ]
    }
   ],
   "source": [
    "torch.manual_seed(42)\n",
    "\n",
    "class GCN(torch.nn.Module):\n",
    "    def __init__(self):\n",
    "        super().__init__()\n",
    "\n",
    "        # GCN layers \n",
    "        self.init_cov = GCNConv(data.num_features,embedding_size)               # (9,64)\n",
    "        self.conv1 = GCNConv(embedding_size,embedding_size)                     # (64,64)\n",
    "        self.conv2 = GCNConv(embedding_size,embedding_size)                     # (64,64)\n",
    "        self.conv3 = GCNConv(embedding_size,embedding_size)                     # (64,64)\n",
    "        \n",
    "        # output linear layer \n",
    "        self.out = Linear(embedding_size*2,1)                                   # (128,1)\n",
    "        \n",
    "    def forward(self,x,edge_index,batch_index):\n",
    "        # frst conv layer \n",
    "        hidden = self.init_cov(x,edge_index)                                    # (Nodes,9) @ (9,64)   -> (Nodes,64)\n",
    "        hidden = F.tanh(hidden)\n",
    "        # other conv layers \n",
    "        hidden = self.conv1(hidden,edge_index)                                  # (Nodes,64) @ (64,64) -> (Nodes,64)\n",
    "        hidden = F.tanh(hidden)\n",
    "        hidden = self.conv2(hidden,edge_index)                                  # (nodes,64) @ (64,64) -> (Nodes,64)\n",
    "        hidden = F.tanh(hidden)\n",
    "        hidden = self.conv3(hidden,edge_index)                                  # (Nodes,64) @ (64,64) -> (Nodes,64)\n",
    "        hidden = F.tanh(hidden)\n",
    "        # global pooling (stack different aggregations):                        # concat[(1,64), (1,64)] -> (2,64)\n",
    "        hidden = torch.cat([global_mean_pool(hidden,batch_index),\n",
    "                            global_max_pool(hidden,batch_index)], dim = 1) \n",
    "        \n",
    "        # final linear layer\n",
    "        out = self.out(hidden)                                                  # 1\n",
    "        return out, hidden \n",
    "\n",
    "model = GCN()\n",
    "print(model)\n",
    "print(\"Total model parameters:\", sum(p.numel() for p in model.parameters()))"
   ]
  },
  {
   "cell_type": "markdown",
   "metadata": {},
   "source": [
    "### Model Training "
   ]
  },
  {
   "cell_type": "code",
   "execution_count": 12,
   "metadata": {},
   "outputs": [],
   "source": [
    "from torch_geometric.data import DataLoader\n",
    "import warnings\n",
    "warnings.filterwarnings('ignore')\n",
    "\n",
    "# loss function and optimizer \n",
    "loss_fn = torch.nn.MSELoss() # RMSE loss \n",
    "optimizer = torch.optim.Adam(model.parameters(),lr=0.0001)\n",
    "\n",
    "# use GPU if available \n",
    "device = 'cuda' if torch.cuda.is_available() else 'cpu'\n",
    "model = model.to(device)\n",
    "\n",
    "# create train and validation data loaders \n",
    "data_size = len(data)\n",
    "NUM_GRAPHS_PER_BATCH = 64\n",
    "n1 = int(0.8*data_size)\n",
    "train_data_loader = DataLoader(data[:n1], batch_size=NUM_GRAPHS_PER_BATCH,shuffle=True)\n",
    "val_data_loader = DataLoader(data[n1:],batch_size=NUM_GRAPHS_PER_BATCH,shuffle=True)"
   ]
  },
  {
   "cell_type": "code",
   "execution_count": 13,
   "metadata": {},
   "outputs": [],
   "source": [
    "# training function \n",
    "def training():\n",
    "    for batch in train_data_loader:\n",
    "        batch.to(device)                                                   # send data to GPU \n",
    "        optimizer.zero_grad()                                              # clear the grad (before next iter)\n",
    "        pred,embd = model(batch.x.float(),batch.edge_index,batch.batch)    # get the prediction \n",
    "        loss = loss_fn(pred,batch.y)                                       # get the loss \n",
    "        loss.backward()                                                    # find the gradient of loss wrt weights\n",
    "        optimizer.step()                                                   # update the weights \n",
    "    return loss, embd"
   ]
  },
  {
   "cell_type": "code",
   "execution_count": 14,
   "metadata": {},
   "outputs": [
    {
     "name": "stdout",
     "output_type": "stream",
     "text": [
      "Epoch:0 | Train Loss:24.3438\n",
      "Epoch:100 | Train Loss:1.8671\n",
      "Epoch:200 | Train Loss:2.3988\n",
      "Epoch:300 | Train Loss:0.2217\n",
      "Epoch:400 | Train Loss:1.1435\n",
      "Epoch:500 | Train Loss:0.7294\n",
      "Epoch:600 | Train Loss:0.0845\n",
      "Epoch:700 | Train Loss:1.3993\n",
      "Epoch:800 | Train Loss:0.6092\n",
      "Epoch:900 | Train Loss:0.8524\n"
     ]
    }
   ],
   "source": [
    "# do training for 1000 epochs \n",
    "losses = []\n",
    "for epoch in range(1000):\n",
    "    loss, h = training()\n",
    "    losses.append(loss)\n",
    "    if epoch % 100 == 0:\n",
    "        print(f'Epoch:{epoch} | Train Loss:{loss:.4f}')"
   ]
  },
  {
   "cell_type": "code",
   "execution_count": 15,
   "metadata": {},
   "outputs": [
    {
     "data": {
      "text/plain": [
       "[<matplotlib.lines.Line2D at 0x7fce85f4c040>]"
      ]
     },
     "execution_count": 15,
     "metadata": {},
     "output_type": "execute_result"
    },
    {
     "data": {
      "image/png": "[encoded data removed]",
      "text/plain": [
       "<Figure size 640x480 with 1 Axes>"
      ]
     },
     "metadata": {},
     "output_type": "display_data"
    }
   ],
   "source": [
    "# plot the train loss \n",
    "import matplotlib.pyplot as plt \n",
    "import numpy as np\n",
    "\n",
    "losses_float = [float(loss.cpu().detach().numpy()) for loss in losses]\n",
    "plt.plot(np.arange(len(losses)), losses_float)"
   ]
  },
  {
   "cell_type": "code",
   "execution_count": 16,
   "metadata": {},
   "outputs": [],
   "source": [
    "# let's make predictions (on one batch from the validation data set)\n",
    "val_results = [[],[]]\n",
    "test_batch = next(iter(val_data_loader))\n",
    "with torch.no_grad():\n",
    "    test_batch.to(device)\n",
    "    pred,embd = model(test_batch.x.float(),test_batch.edge_index,test_batch.batch)\n",
    "    val_results[0].append(test_batch.y.tolist())\n",
    "    val_results[1].append(pred.tolist())"
   ]
  },
  {
   "cell_type": "code",
   "execution_count": 17,
   "metadata": {},
   "outputs": [
    {
     "data": {
      "text/plain": [
       "array([[-4.57000017, -3.76027203],\n",
       "       [-2.06999993, -3.76574636],\n",
       "       [-8.39999962, -5.73138237],\n",
       "       [-0.972     , -0.07234637],\n",
       "       [-3.38000011, -3.04745531],\n",
       "       [-0.95999998, -1.48726916],\n",
       "       [-2.98200011, -2.00943065],\n",
       "       [ 0.94      , -1.00357187],\n",
       "       [-4.17299986, -4.41378212],\n",
       "       [-2.57999992, -2.82529163]])"
      ]
     },
     "execution_count": 17,
     "metadata": {},
     "output_type": "execute_result"
    }
   ],
   "source": [
    "# actual and predicted values (first 10) \n",
    "val_np = np.array(val_results).reshape(2,64)\n",
    "val_np.T[:10]"
   ]
  },
  {
   "cell_type": "code",
   "execution_count": 18,
   "metadata": {},
   "outputs": [
    {
     "data": {
      "text/plain": [
       "Text(0.5, 0, 'Actual')"
      ]
     },
     "execution_count": 18,
     "metadata": {},
     "output_type": "execute_result"
    },
    {
     "data": {
      "image/png": "[encoded data removed]",
      "text/plain": [
       "<Figure size 640x480 with 1 Axes>"
      ]
     },
     "metadata": {},
     "output_type": "display_data"
    }
   ],
   "source": [
    "# plot model prediction against actual values\n",
    "plt.scatter(val_np[0],val_np[1])\n",
    "plt.ylabel('pred')\n",
    "plt.xlabel('Actual')"
   ]
  },
  {
   "cell_type": "markdown",
   "metadata": {},
   "source": [
    "### Future improvements\n",
    "\n",
    "* Dropout\n",
    "* Batch Normalization\n",
    "* Other types of pooling \n",
    "* Add more layers\n",
    "* Test the hidden layer sizes, different test matrices and hyper parameter tuning "
   ]
  },
  {
   "cell_type": "code",
   "execution_count": null,
   "metadata": {},
   "outputs": [],
   "source": []
  }
 ],
 "metadata": {
  "kernelspec": {
   "display_name": "base",
   "language": "python",
   "name": "python3"
  },
  "language_info": {
   "codemirror_mode": {
    "name": "ipython",
    "version": 3
   },
   "file_extension": ".py",
   "mimetype": "text/x-python",
   "name": "python",
   "nbconvert_exporter": "python",
   "pygments_lexer": "ipython3",
   "version": "3.9.13"
  }
 },
 "nbformat": 4,
 "nbformat_minor": 2
}
