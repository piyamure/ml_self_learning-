{
 "cells": [
  {
   "cell_type": "code",
   "execution_count": 1,
   "metadata": {},
   "outputs": [],
   "source": [
    "import torch \n",
    "import torch.nn as nn \n",
    "import torch.optim as optim \n",
    "\n",
    "import matplotlib.pyplot as plt\n",
    "from torchvision import datasets\n",
    "from torchvision.transforms import ToTensor\n",
    "from torch.utils.data import DataLoader"
   ]
  },
  {
   "cell_type": "code",
   "execution_count": 2,
   "metadata": {},
   "outputs": [],
   "source": [
    "# get the training and test data \n",
    "train_data = datasets.FashionMNIST(root='DATA',train=True,download=True,transform=ToTensor(),target_transform=None)\n",
    "test_data = datasets.FashionMNIST(root='DATA',train=False, download=True,transform=ToTensor())"
   ]
  },
  {
   "cell_type": "code",
   "execution_count": 3,
   "metadata": {},
   "outputs": [
    {
     "data": {
      "text/plain": [
       "torch.Size([1, 28, 28])"
      ]
     },
     "execution_count": 3,
     "metadata": {},
     "output_type": "execute_result"
    }
   ],
   "source": [
    "# check input and output shapes \n",
    "train_data[0][0].shape"
   ]
  },
  {
   "cell_type": "code",
   "execution_count": 4,
   "metadata": {},
   "outputs": [
    {
     "data": {
      "text/plain": [
       "(1875, 313)"
      ]
     },
     "execution_count": 4,
     "metadata": {},
     "output_type": "execute_result"
    }
   ],
   "source": [
    "# create data loaders \n",
    "\n",
    "batch_size = 32 \n",
    "\n",
    "# these are iterables \n",
    "train_dataloader = DataLoader(train_data,batch_size=batch_size,shuffle=True)\n",
    "test_dataloader = DataLoader(test_data,batch_size=batch_size,shuffle=False)\n",
    "\n",
    "# length of data loader = len(data)/batch_size\n",
    "len(train_dataloader), len(test_dataloader)"
   ]
  },
  {
   "cell_type": "code",
   "execution_count": 7,
   "metadata": {},
   "outputs": [],
   "source": [
    "class FashionMNISTModelV2(nn.Module):\n",
    "    def __init__(self,input_shape,output_shape,hidden_units):\n",
    "        super().__init__()\n",
    "        self.block_1 = nn.Sequential(\n",
    "            nn.Conv2d(in_channels=1,out_channels=hidden_units,kernel_size=3,stride=1,padding=1),\n",
    "            nn.ReLU(),\n",
    "            nn.Conv2d(in_channels=hidden_units,out_channels=hidden_units,kernel_size=3,stride=1,padding=1),\n",
    "            nn.ReLU(),\n",
    "            nn.MaxPool2d(kernel_size=2,stride=2))\n",
    "        \n",
    "        self.block_2 = nn.Sequential(\n",
    "            nn.Conv2d(hidden_units,hidden_units,3,padding=1),\n",
    "            nn.ReLU(),\n",
    "            nn.Conv2d(hidden_units,hidden_units,3,padding=1),\n",
    "            nn.ReLU(),\n",
    "            nn.MaxPool2d(2))\n",
    "        \n",
    "        self.classifier = nn.Sequential(\n",
    "            nn.Flatten(),\n",
    "            nn.Linear(in_features=hidden_units*7*7, out_features=output_shape))\n",
    "        \n",
    "    def forward(self,x):\n",
    "        return self.classifier(self.block_2(self.block_1(x)))"
   ]
  },
  {
   "cell_type": "code",
   "execution_count": 9,
   "metadata": {},
   "outputs": [
    {
     "data": {
      "text/plain": [
       "FashionMNISTModelV2(\n",
       "  (block_1): Sequential(\n",
       "    (0): Conv2d(1, 10, kernel_size=(3, 3), stride=(1, 1), padding=(1, 1))\n",
       "    (1): ReLU()\n",
       "    (2): Conv2d(10, 10, kernel_size=(3, 3), stride=(1, 1), padding=(1, 1))\n",
       "    (3): ReLU()\n",
       "    (4): MaxPool2d(kernel_size=2, stride=2, padding=0, dilation=1, ceil_mode=False)\n",
       "  )\n",
       "  (block_2): Sequential(\n",
       "    (0): Conv2d(10, 10, kernel_size=(3, 3), stride=(1, 1), padding=(1, 1))\n",
       "    (1): ReLU()\n",
       "    (2): Conv2d(10, 10, kernel_size=(3, 3), stride=(1, 1), padding=(1, 1))\n",
       "    (3): ReLU()\n",
       "    (4): MaxPool2d(kernel_size=2, stride=2, padding=0, dilation=1, ceil_mode=False)\n",
       "  )\n",
       "  (classifier): Sequential(\n",
       "    (0): Flatten(start_dim=1, end_dim=-1)\n",
       "    (1): Linear(in_features=490, out_features=10, bias=True)\n",
       "  )\n",
       ")"
      ]
     },
     "execution_count": 9,
     "metadata": {},
     "output_type": "execute_result"
    }
   ],
   "source": [
    "    \n",
    "model_2 = FashionMNISTModelV2(input_shape=1,hidden_units=10,output_shape=10)\n",
    "model_2"
   ]
  },
  {
   "cell_type": "code",
   "execution_count": 13,
   "metadata": {},
   "outputs": [],
   "source": [
    "# loss/accuracy function and optimizer \n",
    "\n",
    "loss_fn = nn.CrossEntropyLoss()\n",
    "optimizer = optim.SGD(model_2.parameters(),lr=0.1)\n",
    "\n",
    "# accuracy function \n",
    "def accuracy_fn(y_true,y_pred):\n",
    "    correct = torch.eq(y_true,y_pred).sum().item()\n",
    "    acc = (correct/len(y_pred)) * 100\n",
    "    return acc"
   ]
  },
  {
   "cell_type": "code",
   "execution_count": 14,
   "metadata": {},
   "outputs": [],
   "source": [
    "# train/test fucntions \n",
    "\n",
    "# train function \n",
    "def train_step(model, data_loader, loss_fn, optimizer,accuracy_fn, device):\n",
    "    train_loss, train_acc = 0, 0 \n",
    "    model.to(device)\n",
    "    \n",
    "    for batch, (X,y) in enumerate(data_loader):\n",
    "        X,y = X.to(device),y.to(device) # send data to GPU \n",
    "        y_pred = model(X)               # forward pass \n",
    "        # losses \n",
    "        loss = loss_fn(y_pred,y)\n",
    "        train_loss += loss \n",
    "        train_acc += accuracy_fn(y,y_pred.argmax(dim=1))\n",
    "        \n",
    "        optimizer.zero_grad()\n",
    "        loss.backward()\n",
    "        optimizer.step()\n",
    "        \n",
    "    train_loss/=len(data_loader)\n",
    "    train_acc/=len(data_loader)\n",
    "    \n",
    "    print(f'Train loss:{train_loss:.5f} | Train accuracy:{train_acc:.2f} %')\n",
    "    \n",
    "        \n",
    "# test function \n",
    "def test_step(model,data_loader,loss_fn,accuracy_fn,device):\n",
    "    test_loss, test_acc = 0,0 \n",
    "    model.to(device)\n",
    "    model.eval()\n",
    "    \n",
    "    with torch.inference_mode():\n",
    "        for X,y in data_loader:\n",
    "            X,y = X.to(device),y.to(device)\n",
    "            test_pred = model(X)\n",
    "            test_loss += loss_fn(test_pred,y)\n",
    "            test_acc += accuracy_fn(y,test_pred.argmax(dim=1))\n",
    "            \n",
    "        test_loss /= len(data_loader)\n",
    "        test_acc/= len(data_loader)\n",
    "    \n",
    "        print(f'Test loss:{test_loss:.5f} | Test acc : {test_acc:.2f} %')\n",
    "        "
   ]
  },
  {
   "cell_type": "code",
   "execution_count": 16,
   "metadata": {},
   "outputs": [
    {
     "name": "stdout",
     "output_type": "stream",
     "text": [
      "Epoch : 0 \n",
      "..............\n",
      "Train loss:0.58554 | Train accuracy:78.71 %\n",
      "Test loss:0.35178 | Test acc : 87.37 %\n",
      "Epoch : 1 \n",
      "..............\n",
      "Train loss:0.34964 | Train accuracy:87.42 %\n",
      "Test loss:0.35807 | Test acc : 86.93 %\n",
      "Epoch : 2 \n",
      "..............\n",
      "Train loss:0.31538 | Train accuracy:88.55 %\n",
      "Test loss:0.29749 | Test acc : 89.18 %\n"
     ]
    }
   ],
   "source": [
    "# training loop \n",
    "device = 'cuda' if torch.cuda.is_available() else 'cpu'\n",
    "epochs = 3 \n",
    "for epoch in range(epochs):\n",
    "    print(f'Epoch : {epoch} \\n..............')\n",
    "    # train \n",
    "    train_step(model=model_2,data_loader=train_dataloader,loss_fn=loss_fn,accuracy_fn=accuracy_fn,optimizer=optimizer,device=device)\n",
    "    # test \n",
    "    test_step(model=model_2,data_loader=train_dataloader,loss_fn=loss_fn,accuracy_fn=accuracy_fn,device=device)"
   ]
  },
  {
   "cell_type": "code",
   "execution_count": null,
   "metadata": {},
   "outputs": [],
   "source": []
  }
 ],
 "metadata": {
  "kernelspec": {
   "display_name": "base",
   "language": "python",
   "name": "python3"
  },
  "language_info": {
   "codemirror_mode": {
    "name": "ipython",
    "version": 3
   },
   "file_extension": ".py",
   "mimetype": "text/x-python",
   "name": "python",
   "nbconvert_exporter": "python",
   "pygments_lexer": "ipython3",
   "version": "3.9.13"
  }
 },
 "nbformat": 4,
 "nbformat_minor": 2
}
