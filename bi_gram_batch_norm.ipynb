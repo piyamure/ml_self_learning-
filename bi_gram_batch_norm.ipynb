{
 "cells": [
  {
   "cell_type": "code",
   "execution_count": 1,
   "metadata": {},
   "outputs": [],
   "source": [
    "import torch \n",
    "import torch.nn.functional as F \n",
    "import matplotlib.pyplot as plt"
   ]
  },
  {
   "cell_type": "code",
   "execution_count": 2,
   "metadata": {},
   "outputs": [],
   "source": [
    "# read in all the words\n",
    "words = open('names.txt', 'r').read().splitlines()"
   ]
  },
  {
   "cell_type": "code",
   "execution_count": 3,
   "metadata": {},
   "outputs": [
    {
     "data": {
      "text/plain": [
       "32033"
      ]
     },
     "execution_count": 3,
     "metadata": {},
     "output_type": "execute_result"
    }
   ],
   "source": [
    "len(words)"
   ]
  },
  {
   "cell_type": "code",
   "execution_count": 4,
   "metadata": {},
   "outputs": [
    {
     "name": "stdout",
     "output_type": "stream",
     "text": [
      "{1: 'a', 2: 'b', 3: 'c', 4: 'd', 5: 'e', 6: 'f', 7: 'g', 8: 'h', 9: 'i', 10: 'j', 11: 'k', 12: 'l', 13: 'm', 14: 'n', 15: 'o', 16: 'p', 17: 'q', 18: 'r', 19: 's', 20: 't', 21: 'u', 22: 'v', 23: 'w', 24: 'x', 25: 'y', 26: 'z', 0: '.'}\n",
      "27\n"
     ]
    }
   ],
   "source": [
    "# build the vocabulary of characters and mappings to/from integers\n",
    "chars = sorted(list(set(''.join(words))))\n",
    "stoi = {s:i+1 for i,s in enumerate(chars)}\n",
    "stoi['.'] = 0\n",
    "itos = {i:s for s,i in stoi.items()}\n",
    "vocab_size = len(itos)\n",
    "print(itos)\n",
    "print(vocab_size)"
   ]
  },
  {
   "cell_type": "code",
   "execution_count": 5,
   "metadata": {},
   "outputs": [
    {
     "name": "stdout",
     "output_type": "stream",
     "text": [
      "27\n"
     ]
    }
   ],
   "source": [
    "vocab_size = len(itos)\n",
    "print(vocab_size)"
   ]
  },
  {
   "cell_type": "code",
   "execution_count": 6,
   "metadata": {},
   "outputs": [
    {
     "name": "stdout",
     "output_type": "stream",
     "text": [
      "torch.Size([182625, 3]) torch.Size([182625])\n",
      "torch.Size([22655, 3]) torch.Size([22655])\n",
      "torch.Size([22866, 3]) torch.Size([22866])\n"
     ]
    }
   ],
   "source": [
    "# build the dataset\n",
    "block_size = 3 # context length: how many characters do we take to predict the next one?\n",
    "\n",
    "def build_dataset(words):  \n",
    "    X, Y = [], []\n",
    "\n",
    "    for w in words:\n",
    "        context = [0] * block_size\n",
    "        for ch in w + '.':\n",
    "            ix = stoi[ch]\n",
    "            X.append(context)\n",
    "            Y.append(ix)\n",
    "            context = context[1:] + [ix] # crop and append\n",
    "\n",
    "    X = torch.tensor(X)\n",
    "    Y = torch.tensor(Y)\n",
    "    print(X.shape, Y.shape)\n",
    "    return X, Y\n",
    "\n",
    "import random\n",
    "random.seed(42)\n",
    "random.shuffle(words)\n",
    "n1 = int(0.8*len(words))\n",
    "n2 = int(0.9*len(words))\n",
    "\n",
    "Xtr,  Ytr  = build_dataset(words[:n1])     # 80%\n",
    "Xdev, Ydev = build_dataset(words[n1:n2])   # 10%\n",
    "Xte,  Yte  = build_dataset(words[n2:])     # 10%"
   ]
  },
  {
   "cell_type": "markdown",
   "metadata": {},
   "source": [
    "### Batch-Normalization \n",
    "* The BN helps to train very deep NN quite reliable\n",
    "\n",
    "* This takes to pre-activation values and normalize them to have unit variance [@ each neuron] , without worrying about the initial weights \n",
    "\n",
    "* When we are using batch normalization we don't need to bias weights \n",
    "\n",
    "* BN couples inputs in the batch via batch mean and batch std -> this provides some regularization as secondary effect "
   ]
  },
  {
   "cell_type": "code",
   "execution_count": 7,
   "metadata": {},
   "outputs": [],
   "source": [
    "# Let's make the code more similar to pytorch implimentation \n",
    "\n",
    "class Linear:\n",
    "    def __init__(self,fan_in,fan_out,bias=True):\n",
    "        self.weight = torch.randn((fan_in,fan_out),generator=g)/fan_in**0.5\n",
    "        self.bias = torch.zeros(fan_out)\n",
    "        \n",
    "    def __call__(self,x):\n",
    "        self.out = x @ self.weight\n",
    "        if self.bias is not None:\n",
    "            self.out += self.bias\n",
    "        return self.out\n",
    "    \n",
    "    def parameters(self):\n",
    "        return [self.weight] + ([] if self.bias is None else [self.bias])\n",
    "    \n",
    "\n",
    "class BatchNorm1d:\n",
    "    def __init__(self,dim,eps=1e-5,momentum=0.1): # here dim is the hidden layer dim \n",
    "        self.eps = eps\n",
    "        self.momentum = momentum \n",
    "        self.training = True \n",
    "        self.gamma = torch.ones(dim)\n",
    "        self.beta  = torch.zeros(dim)\n",
    "        self.running_mean = torch.zeros(dim)\n",
    "        self.running_var  = torch.ones(dim)\n",
    "        \n",
    "    def __call__(self,x):\n",
    "        if self.training:\n",
    "            xmean = x.mean(0,keepdim=True)\n",
    "            xvar  = x.var(0,keepdim=True)\n",
    "        else:\n",
    "            xmean = self.running_mean\n",
    "            xvar = self.running_var\n",
    "        xhat = (x - xmean)/torch.sqrt(xvar + self.eps)\n",
    "        self.out = self.gamma * xhat + self.beta\n",
    "        \n",
    "        if self.training:\n",
    "            with torch.no_grad():\n",
    "                self.running_mean = (1 - self.momentum) * self.running_mean + self.momentum * xmean\n",
    "                self.running_var  = (1 - self.momentum) * self.running_var  + self.momentum * xvar\n",
    "                \n",
    "        return self.out \n",
    "    \n",
    "    def parameters(self):\n",
    "        return [self.gamma, self.beta]\n",
    "    \n",
    "class Tanh:\n",
    "    def __call__(self,x):\n",
    "        self.out = torch.tanh(x)\n",
    "        return self.out \n",
    "    def parameters(self):\n",
    "        return []"
   ]
  },
  {
   "cell_type": "code",
   "execution_count": 8,
   "metadata": {},
   "outputs": [
    {
     "name": "stdout",
     "output_type": "stream",
     "text": [
      "47551\n"
     ]
    }
   ],
   "source": [
    "n_embd = 10 \n",
    "n_hidden = 100 \n",
    "block_size = 3 \n",
    "vocab_size = 27\n",
    "g = torch.Generator().manual_seed(2147483647)\n",
    "\n",
    "C = torch.randn((vocab_size,n_embd),generator=g)\n",
    "\n",
    "layers = [\n",
    "    Linear(n_embd*block_size,n_hidden,bias=False),BatchNorm1d(n_hidden),Tanh(),\n",
    "    Linear(         n_hidden,n_hidden,bias=False),BatchNorm1d(n_hidden),Tanh(),\n",
    "    Linear(         n_hidden,n_hidden,bias=False),BatchNorm1d(n_hidden),Tanh(),\n",
    "    Linear(         n_hidden,n_hidden,bias=False),BatchNorm1d(n_hidden),Tanh(),\n",
    "    Linear(         n_hidden,n_hidden,bias=False),BatchNorm1d(n_hidden),Tanh(),\n",
    "    Linear(         n_hidden,vocab_size,bias=False),BatchNorm1d(vocab_size),\n",
    "]\n",
    "\n",
    "with torch.no_grad():\n",
    "    layers[-1].gamma *=0.1      # make last layer less confident \n",
    "    for layer in layers[:-1]:   # all the ohther layers: apply gain \n",
    "        if isinstance(layer,Linear):\n",
    "            layer.weight *= 0.1 # 5/3 \n",
    "parameters = [C] + [p for layer in layers for p in layer.parameters()]\n",
    "print(sum(p.nelement() for p in parameters))\n",
    "\n",
    "for p in parameters:\n",
    "    p.requires_grad = True "
   ]
  },
  {
   "cell_type": "code",
   "execution_count": 9,
   "metadata": {},
   "outputs": [
    {
     "name": "stdout",
     "output_type": "stream",
     "text": [
      "torch.Size([32, 3])\n",
      "torch.Size([27, 10])\n",
      "torch.Size([32, 3, 10])\n"
     ]
    }
   ],
   "source": [
    "ix = torch.randint(0,Xtr.shape[0],(32,),generator=g)\n",
    "Xb, Yb = Xtr[ix],Ytr[ix]\n",
    "\n",
    "print(Xb.shape)\n",
    "print(C.shape)\n",
    "print(C[Xb].shape)"
   ]
  },
  {
   "cell_type": "code",
   "execution_count": 10,
   "metadata": {},
   "outputs": [
    {
     "name": "stdout",
     "output_type": "stream",
     "text": [
      "      0/ 200000:3.2912\n",
      "  10000/ 200000:2.2274\n",
      "  20000/ 200000:1.9601\n",
      "  30000/ 200000:2.1760\n",
      "  40000/ 200000:2.0386\n",
      "  50000/ 200000:2.4513\n",
      "  60000/ 200000:2.0496\n",
      "  70000/ 200000:2.1536\n",
      "  80000/ 200000:2.0176\n",
      "  90000/ 200000:2.1248\n",
      " 100000/ 200000:2.3377\n",
      " 110000/ 200000:2.1634\n",
      " 120000/ 200000:2.1111\n",
      " 130000/ 200000:1.9837\n",
      " 140000/ 200000:2.0169\n",
      " 150000/ 200000:2.1802\n",
      " 160000/ 200000:2.5559\n",
      " 170000/ 200000:2.2282\n",
      " 180000/ 200000:2.2986\n",
      " 190000/ 200000:2.1221\n"
     ]
    }
   ],
   "source": [
    "# optimization \n",
    "max_steps = 200000\n",
    "batch_size = 32 \n",
    "lossi = []\n",
    "ud = []\n",
    "\n",
    "for i in range(max_steps):\n",
    "    # mini batch \n",
    "    ix = torch.randint(0,Xtr.shape[0],(batch_size,),generator=g)\n",
    "    Xb, Yb = Xtr[ix],Ytr[ix]\n",
    "    \n",
    "    # forward pass \n",
    "    emb = C[Xb] # embed chars to vectors \n",
    "    x = emb.view(emb.shape[0],-1) # concatenate the vectors \n",
    "    for layer in layers:\n",
    "        x = layer(x)\n",
    "    loss = F.cross_entropy(x,Yb)\n",
    "    \n",
    "    # backward pass \n",
    "    for layer in layers:\n",
    "        layer.out.retain_grad()\n",
    "    for p in parameters:\n",
    "        p.grad = None \n",
    "    loss.backward()\n",
    "    \n",
    "    # update \n",
    "    lr = 0.1 if i < 100000 else 0.01\n",
    "    for p in parameters:\n",
    "        p.data += -lr*p.grad\n",
    "    \n",
    "    # track status \n",
    "    if i % 10000 == 0:\n",
    "        print(f'{i:7d}/{max_steps:7d}:{loss.item():.4f}')\n",
    "    lossi.append(loss.log10().item())\n",
    "    \n",
    "    with torch.no_grad():\n",
    "        ud.append([((lr*p.grad).std()/p.data.std()).log10().item() for p in parameters])\n",
    "        \n",
    "    "
   ]
  },
  {
   "cell_type": "code",
   "execution_count": 11,
   "metadata": {},
   "outputs": [
    {
     "name": "stdout",
     "output_type": "stream",
     "text": [
      "train 2.0281624794006348\n",
      "val 2.091705322265625\n"
     ]
    }
   ],
   "source": [
    "# inference \n",
    "@torch.no_grad()\n",
    "def split_loss(split):\n",
    "    x,y = {\n",
    "        'train':(Xtr,Ytr),\n",
    "        'val':(Xdev,Ydev),\n",
    "        'test':(Xte,Yte)\n",
    "    }[split]\n",
    "    \n",
    "    emb = C[x]\n",
    "    x = emb.view(emb.shape[0],-1)\n",
    "    for layer in layers:\n",
    "        x = layer(x)\n",
    "    loss = F.cross_entropy(x,y)\n",
    "    print(split,loss.item())\n",
    "    \n",
    "# put layers into eval mode\n",
    "for layer in layers:\n",
    "    layer.training = False\n",
    "    \n",
    "split_loss('train')\n",
    "split_loss('val')"
   ]
  },
  {
   "cell_type": "code",
   "execution_count": 12,
   "metadata": {},
   "outputs": [
    {
     "name": "stdout",
     "output_type": "stream",
     "text": [
      "abillie.\n",
      "fnaida.\n",
      "kie.\n",
      "vivia.\n",
      "nous.\n",
      "kinlsiah.\n",
      "bro.\n",
      "eishis.\n",
      "mikynn.\n",
      "adden.\n"
     ]
    },
    {
     "name": "stderr",
     "output_type": "stream",
     "text": [
      "/tmp/ipykernel_4657/891351972.py:12: UserWarning: Implicit dimension choice for softmax has been deprecated. Change the call to include dim=X as an argument.\n",
      "  probs = F.softmax(logits)\n"
     ]
    }
   ],
   "source": [
    "# sample from model \n",
    "\n",
    "for _ in range(10):\n",
    "    out = []\n",
    "    context = [0] * block_size\n",
    "    while True:\n",
    "        emb = C[torch.tensor([context])]\n",
    "        x = emb.view(emb.shape[0],-1)\n",
    "        for layer in layers:\n",
    "            x = layer(x)\n",
    "        logits = x \n",
    "        probs = F.softmax(logits)\n",
    "        ix = torch.multinomial(probs,num_samples=1, generator=g).item()\n",
    "        context = context[1:] + [ix]\n",
    "        out.append(ix)\n",
    "        if ix ==0:\n",
    "            break\n",
    "    print(''.join(itos[i] for i in out))"
   ]
  },
  {
   "cell_type": "code",
   "execution_count": null,
   "metadata": {},
   "outputs": [],
   "source": []
  }
 ],
 "metadata": {
  "kernelspec": {
   "display_name": "base",
   "language": "python",
   "name": "python3"
  },
  "language_info": {
   "codemirror_mode": {
    "name": "ipython",
    "version": 3
   },
   "file_extension": ".py",
   "mimetype": "text/x-python",
   "name": "python",
   "nbconvert_exporter": "python",
   "pygments_lexer": "ipython3",
   "version": "3.9.13"
  }
 },
 "nbformat": 4,
 "nbformat_minor": 2
}
