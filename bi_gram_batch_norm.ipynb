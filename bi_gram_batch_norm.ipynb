{
 "cells": [
  {
   "cell_type": "code",
   "execution_count": 1,
   "metadata": {},
   "outputs": [],
   "source": [
    "import torch \n",
    "import torch.nn.functional as F \n",
    "import matplotlib.pyplot as plt"
   ]
  },
  {
   "cell_type": "code",
   "execution_count": 2,
   "metadata": {},
   "outputs": [],
   "source": [
    "# read in all the words\n",
    "words = open('names.txt', 'r').read().splitlines()"
   ]
  },
  {
   "cell_type": "code",
   "execution_count": 3,
   "metadata": {},
   "outputs": [
    {
     "data": {
      "text/plain": [
       "32033"
      ]
     },
     "execution_count": 3,
     "metadata": {},
     "output_type": "execute_result"
    }
   ],
   "source": [
    "len(words)"
   ]
  },
  {
   "cell_type": "code",
   "execution_count": 4,
   "metadata": {},
   "outputs": [
    {
     "name": "stdout",
     "output_type": "stream",
     "text": [
      "{1: 'a', 2: 'b', 3: 'c', 4: 'd', 5: 'e', 6: 'f', 7: 'g', 8: 'h', 9: 'i', 10: 'j', 11: 'k', 12: 'l', 13: 'm', 14: 'n', 15: 'o', 16: 'p', 17: 'q', 18: 'r', 19: 's', 20: 't', 21: 'u', 22: 'v', 23: 'w', 24: 'x', 25: 'y', 26: 'z', 0: '.'}\n",
      "27\n"
     ]
    }
   ],
   "source": [
    "# build the vocabulary of characters and mappings to/from integers\n",
    "chars = sorted(list(set(''.join(words))))\n",
    "stoi = {s:i+1 for i,s in enumerate(chars)}\n",
    "stoi['.'] = 0\n",
    "itos = {i:s for s,i in stoi.items()}\n",
    "vocab_size = len(itos)\n",
    "print(itos)\n",
    "print(vocab_size)"
   ]
  },
  {
   "cell_type": "code",
   "execution_count": 5,
   "metadata": {},
   "outputs": [
    {
     "name": "stdout",
     "output_type": "stream",
     "text": [
      "27\n"
     ]
    }
   ],
   "source": [
    "vocab_size = len(itos)\n",
    "print(vocab_size)"
   ]
  },
  {
   "cell_type": "code",
   "execution_count": 6,
   "metadata": {},
   "outputs": [
    {
     "name": "stdout",
     "output_type": "stream",
     "text": [
      "torch.Size([182625, 3]) torch.Size([182625])\n",
      "torch.Size([22655, 3]) torch.Size([22655])\n",
      "torch.Size([22866, 3]) torch.Size([22866])\n"
     ]
    }
   ],
   "source": [
    "# build the dataset\n",
    "block_size = 3 # context length: how many characters do we take to predict the next one?\n",
    "\n",
    "def build_dataset(words):  \n",
    "    X, Y = [], []\n",
    "\n",
    "    for w in words:\n",
    "        context = [0] * block_size\n",
    "        for ch in w + '.':\n",
    "            ix = stoi[ch]\n",
    "            X.append(context)\n",
    "            Y.append(ix)\n",
    "            context = context[1:] + [ix] # crop and append\n",
    "\n",
    "    X = torch.tensor(X)\n",
    "    Y = torch.tensor(Y)\n",
    "    print(X.shape, Y.shape)\n",
    "    return X, Y\n",
    "\n",
    "import random\n",
    "random.seed(42)\n",
    "random.shuffle(words)\n",
    "n1 = int(0.8*len(words))\n",
    "n2 = int(0.9*len(words))\n",
    "\n",
    "Xtr,  Ytr  = build_dataset(words[:n1])     # 80%\n",
    "Xdev, Ydev = build_dataset(words[n1:n2])   # 10%\n",
    "Xte,  Yte  = build_dataset(words[n2:])     # 10%"
   ]
  },
  {
   "cell_type": "code",
   "execution_count": 7,
   "metadata": {},
   "outputs": [
    {
     "name": "stdout",
     "output_type": "stream",
     "text": [
      "11897\n"
     ]
    }
   ],
   "source": [
    "# MLP \n",
    "n_embd = 10 # dim of charactor embedding vector \n",
    "n_hidden = 200 # the number of neuron in the hidden layer \n",
    "\n",
    "g = torch.Generator().manual_seed(2147483647)               # for reproducibility\n",
    "C = torch.randn((vocab_size,n_embd),generator=g)            # charactor embedding matrix \n",
    "W1 = torch.randn((n_embd*block_size,n_hidden),generator=g)  # wieghts for first hidden layer\n",
    "b1 = torch.randn(n_hidden,generator=g)                      # first hidden layer biases \n",
    "W2 = torch.randn(n_hidden,vocab_size,generator=g)           # output layer weights \n",
    "b2 = torch.randn(vocab_size,generator=g)                    # output layer biases \n",
    "\n",
    "parameters = [C,W1,b1,W2,b2]                                # parameter list \n",
    "print(sum(p.nelement() for p in parameters))                # total number of parameters \n",
    "\n",
    "for p in parameters:                                        # turn on the gradient tracking of parameters \n",
    "    p.requires_grad = True"
   ]
  },
  {
   "cell_type": "code",
   "execution_count": 8,
   "metadata": {},
   "outputs": [
    {
     "name": "stdout",
     "output_type": "stream",
     "text": [
      "      0:27.8817\n",
      "  10000:2.8760\n",
      "  20000:2.4882\n",
      "  30000:2.7183\n",
      "  40000:2.0478\n",
      "  50000:2.4847\n",
      "  60000:2.4307\n",
      "  70000:2.1215\n",
      "  80000:2.2990\n",
      "  90000:2.2071\n",
      " 100000:2.0067\n",
      " 110000:2.4795\n",
      " 120000:2.1126\n",
      " 130000:2.5003\n",
      " 140000:2.3528\n",
      " 150000:2.2387\n",
      " 160000:2.3409\n",
      " 170000:1.8308\n",
      " 180000:2.2441\n",
      " 190000:2.0197\n"
     ]
    }
   ],
   "source": [
    "# trianing of MLP \n",
    "max_steps = 200000\n",
    "batch_size = 32 \n",
    "lossi = []\n",
    "\n",
    "for i in range(max_steps):\n",
    "    # mini batch creation \n",
    "    ix = torch.randint(0,Xtr.shape[0],(batch_size,),generator=g)\n",
    "    Xb,Yb = Xtr[ix],Ytr[ix]\n",
    "    \n",
    "    # forward pass \n",
    "    emb = C[Xb]     # shape(32,3,10)\n",
    "    embcat = emb.view(emb.shape[0],-1) # shape (32,30)->concat the vectors \n",
    "    \n",
    "    # linear layer \n",
    "    hpreact = embcat @ W1 + b1        # hidden layer pre-activation \n",
    "    \n",
    "    # non-linearity \n",
    "    h = torch.tanh(hpreact)           # putput of the hidden layer\n",
    "    logits = h @ W2 + b2              # logits (this is the output of the final linear layer) of the NN \n",
    "    loss = F.cross_entropy(logits,Yb) # cross entropy loss \n",
    "    \n",
    "    # backward pass \n",
    "    for p in parameters:\n",
    "        p.grad = None                 # initialize the grad to none \n",
    "    loss.backward()                   # get the gradient of loss wrt parameters \n",
    "    \n",
    "    # update the weights \n",
    "    lr = 0.1 if i < 10000 else 0.01 \n",
    "    for p in parameters:\n",
    "        p.data += -lr * p.grad\n",
    "    \n",
    "    # treck the stats \n",
    "    if i % 10000 ==0:\n",
    "        print(f'{i:7d}:{loss.item():.4f}')\n",
    "    \n",
    "    lossi.append(loss.log10().item())"
   ]
  },
  {
   "cell_type": "code",
   "execution_count": 10,
   "metadata": {},
   "outputs": [
    {
     "data": {
      "text/plain": [
       "[<matplotlib.lines.Line2D at 0x7fc15336af70>]"
      ]
     },
     "execution_count": 10,
     "metadata": {},
     "output_type": "execute_result"
    },
    {
     "data": {
      "image/png": "[encoded data removed]",
      "text/plain": [
       "<Figure size 640x480 with 1 Axes>"
      ]
     },
     "metadata": {},
     "output_type": "display_data"
    }
   ],
   "source": [
    "plt.plot(lossi)"
   ]
  },
  {
   "cell_type": "code",
   "execution_count": 12,
   "metadata": {},
   "outputs": [
    {
     "name": "stdout",
     "output_type": "stream",
     "text": [
      "train 2.231260299682617\n",
      "val 2.249481439590454\n"
     ]
    }
   ],
   "source": [
    "# test the model in the validation data set (note: we are removing the gradient tracking here)\n",
    "@torch.no_grad()\n",
    "def split_loss(split):\n",
    "    x,y = {\n",
    "        'train':(Xtr,Ytr),\n",
    "        'val':(Xdev,Ydev),\n",
    "        'test':(Xte,Yte)\n",
    "    }[split]\n",
    "    \n",
    "    emb = C[x]                         # (N, block_size, n_embd)\n",
    "    embcat = emb.view(emb.shape[0],-1) # concat into (N, block_size * n_embd)\n",
    "    hpreact = embcat @ W1 + b1\n",
    "    h = torch.tanh(hpreact)\n",
    "    logits = h@ W2 + b2 \n",
    "    loss = F.cross_entropy(logits,y)\n",
    "    print(split,loss.item())\n",
    "    \n",
    "split_loss('train')\n",
    "split_loss('val')"
   ]
  },
  {
   "cell_type": "code",
   "execution_count": null,
   "metadata": {},
   "outputs": [],
   "source": []
  }
 ],
 "metadata": {
  "kernelspec": {
   "display_name": "base",
   "language": "python",
   "name": "python3"
  },
  "language_info": {
   "codemirror_mode": {
    "name": "ipython",
    "version": 3
   },
   "file_extension": ".py",
   "mimetype": "text/x-python",
   "name": "python",
   "nbconvert_exporter": "python",
   "pygments_lexer": "ipython3",
   "version": "3.9.13"
  }
 },
 "nbformat": 4,
 "nbformat_minor": 2
}
